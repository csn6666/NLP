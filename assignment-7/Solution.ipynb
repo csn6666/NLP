{
 "cells": [
  {
   "cell_type": "code",
   "execution_count": 1,
   "metadata": {},
   "outputs": [],
   "source": [
    "import pandas as pd"
   ]
  },
  {
   "cell_type": "markdown",
   "metadata": {},
   "source": [
    "# Preparing data"
   ]
  },
  {
   "cell_type": "code",
   "execution_count": 5,
   "metadata": {},
   "outputs": [],
   "source": [
    "fname = './news_chinese.tsv'\n",
    "content = pd.read_csv(fname, encoding='utf-8', error_bad_lines=False, sep = '\\t')"
   ]
  },
  {
   "cell_type": "markdown",
   "metadata": {},
   "source": [
    "## Create new feature & appointing X and y"
   ]
  },
  {
   "cell_type": "code",
   "execution_count": 56,
   "metadata": {},
   "outputs": [],
   "source": [
    "# weibo has title only, and we want those text included, so concatenate:\n",
    "# Create is_xinhua as target\n",
    "content['title_content'] = content.title.astype(str) + content.content.astype(str)\n",
    "content['is_xinhua'] = content['source'] == '新华社'\n",
    "\n",
    "X = content['title_content']\n",
    "y = content['is_xinhua'].map({True:1,False:0})"
   ]
  },
  {
   "cell_type": "markdown",
   "metadata": {},
   "source": [
    "## Create train and validation set"
   ]
  },
  {
   "cell_type": "code",
   "execution_count": 62,
   "metadata": {},
   "outputs": [],
   "source": [
    "import re\n",
    "import jieba\n",
    "def cleaning_txt(txt):\n",
    "    txt = re.findall(r'\\w+', re.sub(r'\\\\n','', txt))\n",
    "    tmp = []\n",
    "    for sent in txt:\n",
    "        tmp.extend(jieba.cut(sent))\n",
    "    return tmp"
   ]
  },
  {
   "cell_type": "code",
   "execution_count": 71,
   "metadata": {
    "scrolled": true
   },
   "outputs": [
    {
     "data": {
      "application/vnd.jupyter.widget-view+json": {
       "model_id": "c3203d429e94443d8623c921b40c3e86",
       "version_major": 2,
       "version_minor": 0
      },
      "text/plain": [
       "HBox(children=(IntProgress(value=0, max=90538), HTML(value='')))"
      ]
     },
     "metadata": {},
     "output_type": "display_data"
    }
   ],
   "source": [
    "from tqdm import tqdm_notebook\n",
    "\n",
    "clean_content = []\n",
    "for i in tqdm_notebook(range(len(X))):\n",
    "    try:\n",
    "        clean_content.append(' '.join(cleaning_txt(X[i])))\n",
    "    except:\n",
    "        print('{0} \\t {1}'.format(i, sys.exc_info()[0]))\n",
    "X = clean_content"
   ]
  },
  {
   "cell_type": "code",
   "execution_count": 76,
   "metadata": {},
   "outputs": [],
   "source": [
    "len(clean_content) == len(y)"
   ]
  },
  {
   "cell_type": "code",
   "execution_count": 82,
   "metadata": {},
   "outputs": [],
   "source": [
    "from sklearn.model_selection import train_test_split\n",
    "\n",
    "rand_seed = 42\n",
    "X_train, X_test, y_train, y_test = train_test_split(X, y, test_size=0.1, \n",
    "                                                    random_state=rand_seed, stratify=y)"
   ]
  },
  {
   "cell_type": "markdown",
   "metadata": {},
   "source": [
    "# Vectorize X_train"
   ]
  },
  {
   "cell_type": "code",
   "execution_count": 83,
   "metadata": {},
   "outputs": [],
   "source": [
    "from sklearn.feature_extraction.text import TfidfVectorizer\n",
    "\n",
    "vectorizer = TfidfVectorizer()\n",
    "X_train = vectorizer.fit_transform(X_train)\n",
    "X_test = vectorizer.transform(X_test)"
   ]
  },
  {
   "cell_type": "markdown",
   "metadata": {},
   "source": [
    "# Fit X_train with knn"
   ]
  },
  {
   "cell_type": "code",
   "execution_count": 133,
   "metadata": {},
   "outputs": [
    {
     "data": {
      "text/plain": [
       "KNeighborsClassifier(algorithm='auto', leaf_size=30, metric='minkowski',\n",
       "                     metric_params=None, n_jobs=None, n_neighbors=5, p=2,\n",
       "                     weights='uniform')"
      ]
     },
     "execution_count": 133,
     "metadata": {},
     "output_type": "execute_result"
    }
   ],
   "source": [
    "from sklearn.neighbors import KNeighborsClassifier\n",
    "\n",
    "knn = KNeighborsClassifier(n_neighbors = 5)\n",
    "knn.fit(X_train,y_train)"
   ]
  },
  {
   "cell_type": "code",
   "execution_count": 134,
   "metadata": {},
   "outputs": [],
   "source": [
    "predicts = knn.predict(X_test)"
   ]
  },
  {
   "cell_type": "markdown",
   "metadata": {},
   "source": [
    "# Measuring predicts"
   ]
  },
  {
   "cell_type": "code",
   "execution_count": 137,
   "metadata": {},
   "outputs": [],
   "source": [
    "from collections import Counter\n",
    "def measure(y_true, predicts):\n",
    "    tp = fp = tn = fn = 0.0\n",
    "    for y, predict in zip(y_true, predicts):\n",
    "        if y == predict:\n",
    "            if y == 1:\n",
    "                tp += 1\n",
    "            else:\n",
    "                tn += 1\n",
    "        else:\n",
    "            if y == 1:\n",
    "                fn += 1\n",
    "            else:\n",
    "                fp += 1\n",
    "    precision = tp / (tp + fp)\n",
    "    recall = tp / (tp + fn)\n",
    "    f1 = 2 / (1 / precision + 1 / recall)\n",
    "    return [precision, recall, f1]"
   ]
  },
  {
   "cell_type": "code",
   "execution_count": 138,
   "metadata": {},
   "outputs": [
    {
     "name": "stdout",
     "output_type": "stream",
     "text": [
      "precision is 0.9533767991142822\n",
      "recall is 0.9852529875413171\n",
      "f1 is 0.9690528290090653\n"
     ]
    }
   ],
   "source": [
    "precision, recall, f1 = measure(y_test, predicts)\n",
    "print('precision is {0}\\nrecall is {1}\\nf1 is {2}'.format(precision, recall, f1))"
   ]
  },
  {
   "cell_type": "markdown",
   "metadata": {},
   "source": [
    "# Grid search: n_neighbors"
   ]
  },
  {
   "cell_type": "code",
   "execution_count": 145,
   "metadata": {},
   "outputs": [
    {
     "name": "stdout",
     "output_type": "stream",
     "text": [
      "Training knn: n_neighbors = 2\n",
      "precision is 0.9740945998195644\n",
      "recall is 0.9608441393338418\n",
      "f1 is 0.967424\n",
      "Training knn: n_neighbors = 6\n",
      "precision is 0.9590592334494773\n",
      "recall is 0.9797864225781846\n",
      "f1 is 0.9693120362218588\n",
      "Training knn: n_neighbors = 10\n",
      "precision is 0.9487870619946092\n",
      "recall is 0.9844902110348335\n",
      "f1 is 0.9663089593211879\n",
      "Training knn: n_neighbors = 14\n",
      "precision is 0.9436824857385605\n",
      "recall is 0.9884312229849987\n",
      "f1 is 0.9655386525923626\n",
      "Training knn: n_neighbors = 18\n",
      "precision is 0.9403237496979947\n",
      "recall is 0.9895753877447241\n",
      "f1 is 0.9643211100099107\n"
     ]
    }
   ],
   "source": [
    "n_neighbors = range(2, 20, 4)\n",
    "models_n = {}\n",
    "predicts_n = {}\n",
    "for n in n_neighbors:\n",
    "    print('Training knn: n_neighbors = {}'.format(n))\n",
    "    knn = KNeighborsClassifier(n_neighbors = n, n_jobs = 8)\n",
    "    knn.fit(X_train,y_train)\n",
    "    predicts = knn.predict(X_test)\n",
    "    \n",
    "    precision, recall, f1 = measure(y_test, predicts)\n",
    "    print('precision is {0}\\nrecall is {1}\\nf1 is {2}'.format(precision, recall, f1))\n",
    "    \n",
    "    predicts_n[n] = predicts\n",
    "    models_n[n] = knn"
   ]
  },
  {
   "cell_type": "code",
   "execution_count": 147,
   "metadata": {},
   "outputs": [],
   "source": [
    "# select best prediction according to f1 score\n",
    "best_pred = predicts_n[6]"
   ]
  },
  {
   "cell_type": "markdown",
   "metadata": {},
   "source": [
    "# Detect plagiarism"
   ]
  },
  {
   "cell_type": "code",
   "execution_count": 191,
   "metadata": {},
   "outputs": [],
   "source": [
    "best_pred = pd.Series(best_pred, index = y_test.index)\n",
    "content_test = content.loc[y_test.index]\n",
    "suspects = content_test[[a == 1 and  b == False for a, b in zip(best_pred, content_test.is_xinhua)]]"
   ]
  },
  {
   "cell_type": "code",
   "execution_count": 194,
   "metadata": {},
   "outputs": [
    {
     "data": {
      "text/html": [
       "<div>\n",
       "<style scoped>\n",
       "    .dataframe tbody tr th:only-of-type {\n",
       "        vertical-align: middle;\n",
       "    }\n",
       "\n",
       "    .dataframe tbody tr th {\n",
       "        vertical-align: top;\n",
       "    }\n",
       "\n",
       "    .dataframe thead th {\n",
       "        text-align: right;\n",
       "    }\n",
       "</style>\n",
       "<table border=\"1\" class=\"dataframe\">\n",
       "  <thead>\n",
       "    <tr style=\"text-align: right;\">\n",
       "      <th></th>\n",
       "      <th>id</th>\n",
       "      <th>author</th>\n",
       "      <th>source</th>\n",
       "      <th>content</th>\n",
       "      <th>feature</th>\n",
       "      <th>title</th>\n",
       "      <th>url</th>\n",
       "      <th>is_xinhua</th>\n",
       "      <th>title_content</th>\n",
       "    </tr>\n",
       "  </thead>\n",
       "  <tbody>\n",
       "    <tr>\n",
       "      <th>83081</th>\n",
       "      <td>82947</td>\n",
       "      <td>NaN</td>\n",
       "      <td>广州日报第A17版</td>\n",
       "      <td>借离婚转移财产躲债 妻被判和夫一同还债\\r\\n　　广州日报讯?（全媒体记者章程?通讯员徐冰琪...</td>\n",
       "      <td>{\\type\\\":\\\"身边纸·拍案\\\",\\\"site\\\":\\\"广州日报\\\",\\\"commen...</td>\n",
       "      <td>借离婚转移财产躲债妻被判和夫一同还债</td>\n",
       "      <td>http://gzdaily.dayoo.com/html/20</td>\n",
       "      <td>False</td>\n",
       "      <td>借离婚转移财产躲债妻被判和夫一同还债借离婚转移财产躲债 妻被判和夫一同还债\\r\\n　　广州日...</td>\n",
       "    </tr>\n",
       "    <tr>\n",
       "      <th>88823</th>\n",
       "      <td>88170</td>\n",
       "      <td>NaN</td>\n",
       "      <td>中国新闻网</td>\n",
       "      <td>点击图片进入下一页\\r\\n发布会现场。企业供图\\r\\n中新网北京6月9日电 8日，摩根数字宣...</td>\n",
       "      <td>{\\type\\\":\\\"IT业界\\\",\\\"site\\\":\\\"参考消息\\\",\\\"commentN...</td>\n",
       "      <td>摩根数字发布智能手环：珠宝设计风格 支持在线支付等功能</td>\n",
       "      <td>http://www.cankaoxiaoxi.com/scie</td>\n",
       "      <td>False</td>\n",
       "      <td>摩根数字发布智能手环：珠宝设计风格 支持在线支付等功能点击图片进入下一页\\r\\n发布会现场。...</td>\n",
       "    </tr>\n",
       "    <tr>\n",
       "      <th>81668</th>\n",
       "      <td>81586</td>\n",
       "      <td>NaN</td>\n",
       "      <td>海南日报第001版</td>\n",
       "      <td>为全面提升我省电网本质安全水平，实现电网架构和保供抗灾能力“脱胎换骨”的目标，大幅增强供...</td>\n",
       "      <td>{\\type\\\":\\\"头版\\\",\\\"site\\\":\\\"海南日报\\\",\\\"commentNum...</td>\n",
       "      <td>审议通过《提升海南电网供电保障 和抗灾能力三年行动计划》等文件</td>\n",
       "      <td>http://hnrb.hinews.cn/html/2017-</td>\n",
       "      <td>False</td>\n",
       "      <td>审议通过《提升海南电网供电保障 和抗灾能力三年行动计划》等文件　　为全面提升我省电网本质安全...</td>\n",
       "    </tr>\n",
       "    <tr>\n",
       "      <th>84734</th>\n",
       "      <td>84502</td>\n",
       "      <td>NaN</td>\n",
       "      <td>广州日报第FSA26版</td>\n",
       "      <td>“共享空调” 无标可依\\r\\n　　共享汽车、共享单车、共享雨伞、共享……共享生活方式在今年越...</td>\n",
       "      <td>{\\type\\\":\\\"家生活·E生活\\\",\\\"site\\\":\\\"广州日报\\\",\\\"comme...</td>\n",
       "      <td>“共享空调” 无标可依</td>\n",
       "      <td>http://gzdaily.dayoo.com/html/20</td>\n",
       "      <td>False</td>\n",
       "      <td>“共享空调” 无标可依“共享空调” 无标可依\\r\\n　　共享汽车、共享单车、共享雨伞、共享…...</td>\n",
       "    </tr>\n",
       "    <tr>\n",
       "      <th>85539</th>\n",
       "      <td>85176</td>\n",
       "      <td>NaN</td>\n",
       "      <td>央视网</td>\n",
       "      <td>央视网消息：据财政部网站消息，6月，又到了一年一度全国人大常委会审议中央决算报告和中央决算草...</td>\n",
       "      <td>{\\type\\\":\\\"时事要闻\\\",\\\"site\\\":\\\"参考消息\\\",\\\"commentN...</td>\n",
       "      <td>中央部门决算：中央各部门的年度收支账本</td>\n",
       "      <td>http://www.cankaoxiaoxi.com/chin</td>\n",
       "      <td>False</td>\n",
       "      <td>中央部门决算：中央各部门的年度收支账本央视网消息：据财政部网站消息，6月，又到了一年一度全国...</td>\n",
       "    </tr>\n",
       "  </tbody>\n",
       "</table>\n",
       "</div>"
      ],
      "text/plain": [
       "          id author       source  \\\n",
       "83081  82947    NaN    广州日报第A17版   \n",
       "88823  88170    NaN        中国新闻网   \n",
       "81668  81586    NaN    海南日报第001版   \n",
       "84734  84502    NaN  广州日报第FSA26版   \n",
       "85539  85176    NaN          央视网   \n",
       "\n",
       "                                                 content  \\\n",
       "83081  借离婚转移财产躲债 妻被判和夫一同还债\\r\\n　　广州日报讯?（全媒体记者章程?通讯员徐冰琪...   \n",
       "88823  点击图片进入下一页\\r\\n发布会现场。企业供图\\r\\n中新网北京6月9日电 8日，摩根数字宣...   \n",
       "81668  　　为全面提升我省电网本质安全水平，实现电网架构和保供抗灾能力“脱胎换骨”的目标，大幅增强供...   \n",
       "84734  “共享空调” 无标可依\\r\\n　　共享汽车、共享单车、共享雨伞、共享……共享生活方式在今年越...   \n",
       "85539  央视网消息：据财政部网站消息，6月，又到了一年一度全国人大常委会审议中央决算报告和中央决算草...   \n",
       "\n",
       "                                                 feature  \\\n",
       "83081  {\\type\\\":\\\"身边纸·拍案\\\",\\\"site\\\":\\\"广州日报\\\",\\\"commen...   \n",
       "88823  {\\type\\\":\\\"IT业界\\\",\\\"site\\\":\\\"参考消息\\\",\\\"commentN...   \n",
       "81668  {\\type\\\":\\\"头版\\\",\\\"site\\\":\\\"海南日报\\\",\\\"commentNum...   \n",
       "84734  {\\type\\\":\\\"家生活·E生活\\\",\\\"site\\\":\\\"广州日报\\\",\\\"comme...   \n",
       "85539  {\\type\\\":\\\"时事要闻\\\",\\\"site\\\":\\\"参考消息\\\",\\\"commentN...   \n",
       "\n",
       "                                 title                               url  \\\n",
       "83081               借离婚转移财产躲债妻被判和夫一同还债  http://gzdaily.dayoo.com/html/20   \n",
       "88823      摩根数字发布智能手环：珠宝设计风格 支持在线支付等功能  http://www.cankaoxiaoxi.com/scie   \n",
       "81668  审议通过《提升海南电网供电保障 和抗灾能力三年行动计划》等文件  http://hnrb.hinews.cn/html/2017-   \n",
       "84734                      “共享空调” 无标可依  http://gzdaily.dayoo.com/html/20   \n",
       "85539              中央部门决算：中央各部门的年度收支账本  http://www.cankaoxiaoxi.com/chin   \n",
       "\n",
       "       is_xinhua                                      title_content  \n",
       "83081      False  借离婚转移财产躲债妻被判和夫一同还债借离婚转移财产躲债 妻被判和夫一同还债\\r\\n　　广州日...  \n",
       "88823      False  摩根数字发布智能手环：珠宝设计风格 支持在线支付等功能点击图片进入下一页\\r\\n发布会现场。...  \n",
       "81668      False  审议通过《提升海南电网供电保障 和抗灾能力三年行动计划》等文件　　为全面提升我省电网本质安全...  \n",
       "84734      False  “共享空调” 无标可依“共享空调” 无标可依\\r\\n　　共享汽车、共享单车、共享雨伞、共享…...  \n",
       "85539      False  中央部门决算：中央各部门的年度收支账本央视网消息：据财政部网站消息，6月，又到了一年一度全国...  "
      ]
     },
     "execution_count": 194,
     "metadata": {},
     "output_type": "execute_result"
    }
   ],
   "source": [
    "suspects.head()"
   ]
  },
  {
   "cell_type": "code",
   "execution_count": null,
   "metadata": {},
   "outputs": [],
   "source": []
  }
 ],
 "metadata": {
  "kernelspec": {
   "display_name": "Python 3",
   "language": "python",
   "name": "python3"
  },
  "language_info": {
   "codemirror_mode": {
    "name": "ipython",
    "version": 3
   },
   "file_extension": ".py",
   "mimetype": "text/x-python",
   "name": "python",
   "nbconvert_exporter": "python",
   "pygments_lexer": "ipython3",
   "version": "3.7.3"
  },
  "toc": {
   "base_numbering": 1,
   "nav_menu": {},
   "number_sections": true,
   "sideBar": true,
   "skip_h1_title": false,
   "title_cell": "Table of Contents",
   "title_sidebar": "Contents",
   "toc_cell": false,
   "toc_position": {},
   "toc_section_display": true,
   "toc_window_display": false
  },
  "varInspector": {
   "cols": {
    "lenName": 16,
    "lenType": 16,
    "lenVar": 40
   },
   "kernels_config": {
    "python": {
     "delete_cmd_postfix": "",
     "delete_cmd_prefix": "del ",
     "library": "var_list.py",
     "varRefreshCmd": "print(var_dic_list())"
    },
    "r": {
     "delete_cmd_postfix": ") ",
     "delete_cmd_prefix": "rm(",
     "library": "var_list.r",
     "varRefreshCmd": "cat(var_dic_list()) "
    }
   },
   "types_to_exclude": [
    "module",
    "function",
    "builtin_function_or_method",
    "instance",
    "_Feature"
   ],
   "window_display": false
  }
 },
 "nbformat": 4,
 "nbformat_minor": 2
}
