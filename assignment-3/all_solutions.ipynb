{
 "cells": [
  {
   "cell_type": "markdown",
   "metadata": {},
   "source": [
    "### Part 2: change loss function from $loss = \\frac{1}{n}\\sum{(y_i - \\hat(y_i))^2}$ to $loss = \\frac{1}{n}\\sum{|y_i - \\hat{y_i}|}$, and using your mathmatical knowledge to get the right partial formual. Implemen the gradient descent code."
   ]
  },
  {
   "cell_type": "code",
   "execution_count": 1,
   "metadata": {},
   "outputs": [],
   "source": [
    "from sklearn.datasets import load_boston\n",
    "from matplotlib import pyplot as plt\n",
    "import pandas as pd\n",
    "import numpy as np\n",
    "from tqdm import tqdm\n",
    "import random\n",
    "from collections import defaultdict\n",
    "import math\n",
    "import time\n",
    "import heapq as hq\n",
    "from functools import lru_cache\n",
    "%matplotlib inline"
   ]
  },
  {
   "cell_type": "code",
   "execution_count": 12,
   "metadata": {},
   "outputs": [],
   "source": [
    "data = load_boston()\n",
    "X, y = data['data'], data['target']"
   ]
  },
  {
   "cell_type": "code",
   "execution_count": 36,
   "metadata": {},
   "outputs": [],
   "source": [
    "def get_prices(k, b, x):\n",
    "    return np.dot(x, k) + b\n",
    "\n",
    "def get_loss(y, y_hat): # to evaluate the performance \n",
    "    return sum(abs(y_i - y_hat_i) for y_i, y_hat_i in zip(list(y), list(y_hat))) / len(list(y))\n",
    "\n",
    "def partial_k(x, y, y_hat):\n",
    "    n = len(y)\n",
    "    gradient = 0\n",
    "    for x, y, y_hat in zip(list(x), list(y), list(y_hat)):\n",
    "        if y > y_hat:\n",
    "            gradient += x/n\n",
    "        elif y < y_hat:\n",
    "            gradient -= x/n\n",
    "    return -gradient\n",
    "\n",
    "def partial_b(x, y, y_hat):\n",
    "    n = len(y)\n",
    "    gradient = 0\n",
    "    for x, y, y_hat in zip(list(x), list(y), list(y_hat)):\n",
    "        if y > y_hat:\n",
    "            gradient += 1/n\n",
    "        elif y < y_hat:\n",
    "            gradient -= 1/n\n",
    "    \n",
    "    return -gradient"
   ]
  },
  {
   "cell_type": "code",
   "execution_count": 49,
   "metadata": {},
   "outputs": [
    {
     "name": "stdout",
     "output_type": "stream",
     "text": [
      "26803.420318210516\n",
      "new lowest loss:26803.420318210516 at 0\n",
      "812.22204394917\n",
      "282.9759698628897\n",
      "new lowest loss:282.9759698628897 at 10000\n",
      "245.32783928133142\n",
      "211.08786384273895\n",
      "new lowest loss:211.08786384273895 at 20000\n",
      "178.53273309418006\n",
      "147.3583591352219\n",
      "118.4090160298157\n",
      "116.81656475877394\n",
      "142.6233388211896\n",
      "141.5771248511659\n",
      "143.80762115204183\n",
      "145.840274714179\n",
      "152.04021415056206\n",
      "153.59352158270497\n",
      "158.03244867031484\n",
      "159.56931654498015\n",
      "155.92981670468504\n",
      "156.62062015390956\n",
      "157.06601047986516\n",
      "112.56221977040954\n"
     ]
    }
   ],
   "source": [
    "\n",
    "\n",
    "k = best_supervised_k = [random.random() * 200 - 100 for i in range(13)]\n",
    "b = best_supervised_b = random.random() * 200 - 100\n",
    "\n",
    "step = 1e-3\n",
    "epoch = 100000\n",
    "lowest_loss = 10000000000000\n",
    "\n",
    "for i in range(epoch):\n",
    "    y_hat = get_prices(k, b, X)\n",
    "    k -= partial_k(X, y, y_hat) * step\n",
    "    b -= partial_b(X, y, y_hat) * step\n",
    "    loss = get_loss(y, y_hat)\n",
    "    if i % 5000 == 0:\n",
    "        print(loss)\n",
    "    if loss < lowest_loss:\n",
    "        lowest_loss = loss\n",
    "        best_directed_k = k\n",
    "        best_directed_b = b\n",
    "        if i % (epoch/10) == 0:\n",
    "            print('new lowest loss:{0} at {1}'.format(lowest_loss, i))\n",
    "print(lowest_loss)"
   ]
  },
  {
   "cell_type": "markdown",
   "metadata": {},
   "source": [
    "### Part 3: Finish the Solution Parse Part of Edit-Distance"
   ]
  },
  {
   "cell_type": "code",
   "execution_count": 255,
   "metadata": {},
   "outputs": [],
   "source": [
    "class edit_distance():\n",
    "    '''\n",
    "    compute是老师例子里面的“edit_distance”\n",
    "    '''\n",
    "    def __init__(self, string1, string2, solution = {}):\n",
    "        self.solution = {}\n",
    "        self.parsed_solution = []\n",
    "        self.string1 = string1\n",
    "        self.string2 = string2\n",
    "        self.string_used = False\n",
    "    \n",
    "    @lru_cache(maxsize=2**10)\n",
    "    def compute(self, string1 = '', string2 = ''):\n",
    "        if self.string_used == False:\n",
    "            string1 = self.string1\n",
    "            string2 = self.string2\n",
    "            self.string_used = True\n",
    "        if len(string1) == 0: \n",
    "            self.solution[(string1, string2)] = 'ADD {}'.format(string2)\n",
    "            self.string_used = False\n",
    "            return len(string2)\n",
    "        if len(string2) == 0: \n",
    "            self.solution[(string1, string2)] = 'DEL {}'.format(string1)\n",
    "            self.string_used = False\n",
    "            return len(string1)\n",
    "\n",
    "        tail_s1 = string1[-1]\n",
    "        tail_s2 = string2[-1]\n",
    "\n",
    "        candidates = [\n",
    "            (self.compute(string1[:-1], string2) + 1, 'DEL {}'.format(tail_s1)),  # string 1 delete tail\n",
    "            (self.compute(string1, string2[:-1]) + 1, 'ADD {}'.format(tail_s2)),  # string 1 add tail of string2\n",
    "        ]\n",
    "\n",
    "        if tail_s1 == tail_s2:\n",
    "            both_forward = (self.compute(string1[:-1], string2[:-1]) + 0, '')\n",
    "        else:\n",
    "            both_forward = (self.compute(string1[:-1], string2[:-1]) + 1, 'SUB {} => {}'.format(tail_s1, tail_s2))\n",
    "\n",
    "        candidates.append(both_forward)\n",
    "\n",
    "        min_distance, operation = min(candidates, key=lambda x: x[0])\n",
    "\n",
    "        self.solution[(string1, string2)] = operation \n",
    "\n",
    "        return min_distance\n",
    "    \n",
    "    @lru_cache(maxsize=2**10)\n",
    "    def parse_solution(self, string1 = '', string2 = ''):\n",
    "        if self.string_used == False:\n",
    "            string1 = self.string1\n",
    "            string2 = self.string2\n",
    "            self.string_used = True\n",
    "            \n",
    "        operation = self.solution[string1, string2]\n",
    "        if len(string1) == 0: \n",
    "            self.string_used = False\n",
    "            self.parsed_solution.append(operation + ' before ind={}'.format(len(string1)))\n",
    "            return self.parsed_solution[::-1]\n",
    "        if len(string2) == 0: \n",
    "            self.string_used = False\n",
    "            self.parsed_solution.append(operation + ' before ind={}'.format(len(string1)))\n",
    "            return self.parsed_solution[::-1]\n",
    "        \n",
    "        if operation == '':\n",
    "            self.parse_solution(string1[:-1], string2[:-1])\n",
    "        else:\n",
    "            operator = operation[:3]\n",
    "            operand = operation[3:]\n",
    "            if operator == 'ADD':\n",
    "                self.parse_solution(string1, string2[:-1])\n",
    "                self.parsed_solution.append(operation + ' after ind={}'.format(len(string1)-1))\n",
    "            elif operator == 'DEL':\n",
    "                self.parse_solution(string1[:-1], string2)\n",
    "                self.parsed_solution.append(operation + ' at ind={}'.format(len(string1)-1))\n",
    "            elif operator == 'SUB':\n",
    "                self.parse_solution(string1[:-1], string2[:-1])\n",
    "                self.parsed_solution.append(operation + ' at ind={}'.format(len(string1)-1))\n",
    "        return self.parsed_solution[::-1]"
   ]
  },
  {
   "cell_type": "code",
   "execution_count": 256,
   "metadata": {},
   "outputs": [
    {
     "data": {
      "text/plain": [
       "['ADD a after ind=5',\n",
       " 'ADD n after ind=5',\n",
       " 'ADD a after ind=5',\n",
       " 'ADD n after ind=5',\n",
       " 'ADD a after ind=5',\n",
       " 'ADD b after ind=5',\n",
       " 'ADD   after ind=5',\n",
       " 'ADD e after ind=5',\n",
       " 'ADD h after ind=5',\n",
       " 'ADD t after ind=5',\n",
       " 'ADD   after ind=5',\n",
       " 'SUB i => u at ind=0',\n",
       " 'ADD yo before ind=0']"
      ]
     },
     "execution_count": 256,
     "metadata": {},
     "output_type": "execute_result"
    }
   ],
   "source": [
    "distance = edit_distance('i like','you like the banana')\n",
    "distance.compute()\n",
    "distance.parse_solution()"
   ]
  },
  {
   "cell_type": "markdown",
   "metadata": {},
   "source": [
    "### (Optinal) Finish the k-person-salesman problem:"
   ]
  },
  {
   "cell_type": "markdown",
   "metadata": {},
   "source": [
    "注：\n",
    " - 用动态规划和bfs做的结果不一样，貌似动态规划写错了。困惑中。\n",
    " - 因为参数里有list，不能用lru_cache，动态规划很慢\n",
    " - 两种方法都巨慢，算20个点不知道要多久……"
   ]
  },
  {
   "cell_type": "markdown",
   "metadata": {},
   "source": [
    "#### Prep: Generate points & Compute the distances"
   ]
  },
  {
   "cell_type": "code",
   "execution_count": 2,
   "metadata": {},
   "outputs": [],
   "source": [
    "def geo_distance(origin, destination):\n",
    "    \"\"\"\n",
    "    Calculate the Haversine distance.\n",
    "\n",
    "    Parameters\n",
    "    ----------\n",
    "    origin : tuple of float\n",
    "        (lat, long)\n",
    "    destination : tuple of float\n",
    "        (lat, long)\n",
    "\n",
    "    Returns\n",
    "    -------\n",
    "    distance_in_km : float\n",
    "\n",
    "    Examples\n",
    "    --------\n",
    "    >>> origin = (48.1372, 11.5756)  # Munich\n",
    "    >>> destination = (52.5186, 13.4083)  # Berlin\n",
    "    >>> round(distance(origin, destination), 1)\n",
    "    504.2\n",
    "    \"\"\"\n",
    "    lat1, lon1 = origin\n",
    "    lat2, lon2 = destination\n",
    "    radius = 6371  # km\n",
    "\n",
    "    dlat = math.radians(lat2 - lat1)\n",
    "    dlon = math.radians(lon2 - lon1)\n",
    "    a = (math.sin(dlat / 2) * math.sin(dlat / 2) +\n",
    "         math.cos(math.radians(lat1)) * math.cos(math.radians(lat2)) *\n",
    "         math.sin(dlon / 2) * math.sin(dlon / 2))\n",
    "    c = 2 * math.atan2(math.sqrt(a), math.sqrt(1 - a))\n",
    "    d = radius * c\n",
    "    return d\n",
    "\n",
    "def compute_distances(points):\n",
    "    d_of_connections = defaultdict(float)\n",
    "    for origin in points:\n",
    "        for destination in points:\n",
    "            if destination == origin: \n",
    "                d_of_connections[(origin, destination)] = 1e30\n",
    "                continue\n",
    "            if d_of_connections[(destination,origin)]: \n",
    "                d_of_connections[(origin, destination)] = d_of_connections[(destination,origin)]\n",
    "                continue\n",
    "            d_of_connections[(origin, destination)] = geo_distance(origin, destination)\n",
    "    return d_of_connections"
   ]
  },
  {
   "cell_type": "code",
   "execution_count": 3,
   "metadata": {},
   "outputs": [
    {
     "data": {
      "text/plain": [
       "<matplotlib.collections.PathCollection at 0x7fbbd9ceba58>"
      ]
     },
     "execution_count": 3,
     "metadata": {},
     "output_type": "execute_result"
    },
    {
     "name": "stderr",
     "output_type": "stream",
     "text": [
      "/Users/sinong/anaconda3/envs/nlp/lib/python3.7/site-packages/matplotlib/backends/backend_agg.py:211: RuntimeWarning: Glyph 8722 missing from current font.\n",
      "  font.set_text(s, 0.0, flags=flags)\n",
      "/Users/sinong/anaconda3/envs/nlp/lib/python3.7/site-packages/matplotlib/backends/backend_agg.py:180: RuntimeWarning: Glyph 8722 missing from current font.\n",
      "  font.set_text(s, 0, flags=flags)\n"
     ]
    },
    {
     "data": {
      "image/png": "[encoded data removed]",
      "text/plain": [
       "<Figure size 432x288 with 1 Axes>"
      ]
     },
     "metadata": {
      "needs_background": "light"
     },
     "output_type": "display_data"
    }
   ],
   "source": [
    "latitudes = [random.randint(-100, 100) for _ in range(10)]\n",
    "longitudes = [random.randint(-100, 100) for _ in range(10)]\n",
    "points = list(zip(latitudes, longitudes))\n",
    "start = random.choice(points)\n",
    "d_of_connections = compute_distances(points)\n",
    "plt.scatter(latitudes, longitudes)\n",
    "plt.scatter(start[0], start[1], color = 'r')"
   ]
  },
  {
   "cell_type": "markdown",
   "metadata": {},
   "source": [
    "#### Solution 1: Dynamic Programming"
   ]
  },
  {
   "cell_type": "code",
   "execution_count": 4,
   "metadata": {},
   "outputs": [],
   "source": [
    "edges = []\n",
    "def dp(start, points, point0):#start:每次递归的起始点；points：每次递归的点集（除去start）；point0：最初的起始点\n",
    "    if points == []:\n",
    "        edges.append([start, (), []])\n",
    "        return d_of_connections[start, point0]\n",
    "    ind_of_min = 0\n",
    "    min_cost = 1e30\n",
    "    for i, point in enumerate(points):\n",
    "        d = d_of_connections[(start, point)]\n",
    "        sub_dp = dp(point, [x for x in points if x is not point], point0)  \n",
    "        if d + sub_dp < min_cost:\n",
    "            ind_of_min = i\n",
    "            min_cost = d + sub_dp\n",
    "    #print('min while start is {0} and other points are {1} is {2}。chosen point:{3}'.format(start, points, min_cost, points[ind_of_min]) )\n",
    "    edges.append((start, points[ind_of_min], points))\n",
    "    return min_cost"
   ]
  },
  {
   "cell_type": "code",
   "execution_count": 5,
   "metadata": {},
   "outputs": [],
   "source": [
    "def parse_edges(edges):\n",
    "    last_edge = edges[-1]\n",
    "    path = [last_edge[0]]\n",
    "    for i in range(len(edges)-1, 0, -1):\n",
    "        if set([edges[i][0]] + edges[i][2]) == set(last_edge[2]):\n",
    "            last_edge = edges[i]\n",
    "            path.append(edges[i][0])\n",
    "    return path"
   ]
  },
  {
   "cell_type": "code",
   "execution_count": 6,
   "metadata": {},
   "outputs": [
    {
     "name": "stdout",
     "output_type": "stream",
     "text": [
      "time elapsed:2.4908909797668457\n",
      "total distance is:62238.69097305184\n",
      "[(34, -10), (78, -19), (-8, 85), (-14, -75), (40, 8), (52, -87), (2, 39), (49, 68), (-85, 13), (-55, -59)]\n"
     ]
    },
    {
     "data": {
      "image/png": "[encoded data removed]",
      "text/plain": [
       "<Figure size 432x288 with 1 Axes>"
      ]
     },
     "metadata": {
      "needs_background": "light"
     },
     "output_type": "display_data"
    }
   ],
   "source": [
    "pre_search_time = time.time()\n",
    "distance = dp(start, [x for x in points if x is not start], start)\n",
    "path = parse_edges(edges)\n",
    "plt.scatter(latitudes, longitudes)\n",
    "plt.scatter(start[0], start[1], color = 'r')\n",
    "plt.plot([x[0] for x in path + [start, path[-1]]], [x[1] for x in path + [start, path[-1]]])\n",
    "print('time elapsed:{0}'.format(time.time() - pre_search_time))\n",
    "print('total distance is:{}'.format(distance + d_of_connections[start, path[-1]]))\n",
    "print(path)"
   ]
  },
  {
   "cell_type": "markdown",
   "metadata": {},
   "source": [
    "#### Solution 2: BFS"
   ]
  },
  {
   "cell_type": "code",
   "execution_count": 7,
   "metadata": {},
   "outputs": [],
   "source": [
    "def search(start, points, d_of_connections):    \n",
    "    paths = []\n",
    "    hq.heappush(paths, (0, [start]))\n",
    "    c = 0\n",
    "    while paths:\n",
    "        path = hq.heappop(paths)\n",
    "        frontier = path[1][-1]\n",
    "        for another_point in points:\n",
    "            if another_point == frontier: continue\n",
    "            if another_point in path[1] and another_point is not start: continue\n",
    "            new_path = path[1] + [another_point]\n",
    "            new_distance = path[0] + d_of_connections[(frontier, another_point)]\n",
    "            if another_point == start:\n",
    "                if len(new_path) > len(points): \n",
    "                    print('total iterations:{}'.format(c))\n",
    "                    return new_path, new_distance\n",
    "                else:\n",
    "                    continue\n",
    "            hq.heappush(paths, (new_distance, new_path))\n",
    "        \n",
    "        if c % 100000 == 0:\n",
    "            print(c)\n",
    "        c += 1"
   ]
  },
  {
   "cell_type": "code",
   "execution_count": 8,
   "metadata": {
    "scrolled": true
   },
   "outputs": [
    {
     "name": "stdout",
     "output_type": "stream",
     "text": [
      "0\n",
      "total iterations:11032\n",
      "time elapsed:0.08261823654174805\n",
      "total distance is:56521.91695048772\n",
      "[(34, -10), (40, 8), (2, 39), (-8, 85), (49, 68), (78, -19), (52, -87), (-14, -75), (-55, -59), (-85, 13), (34, -10)]\n"
     ]
    },
    {
     "data": {
      "image/png": "[encoded data removed]",
      "text/plain": [
       "<Figure size 432x288 with 1 Axes>"
      ]
     },
     "metadata": {
      "needs_background": "light"
     },
     "output_type": "display_data"
    }
   ],
   "source": [
    "pre_search_time = time.time()\n",
    "path, distance = search(start, points, d_of_connections)\n",
    "plt.scatter(latitudes, longitudes)\n",
    "plt.scatter(start[0], start[1], color = 'r')\n",
    "plt.plot([x[0] for x in path], [x[1] for x in path])\n",
    "print('time elapsed:{0}'.format(time.time() - pre_search_time))\n",
    "print('total distance is:{}'.format(distance))\n",
    "print(path)"
   ]
  }
 ],
 "metadata": {
  "kernelspec": {
   "display_name": "Python 3",
   "language": "python",
   "name": "python3"
  },
  "language_info": {
   "codemirror_mode": {
    "name": "ipython",
    "version": 3
   },
   "file_extension": ".py",
   "mimetype": "text/x-python",
   "name": "python",
   "nbconvert_exporter": "python",
   "pygments_lexer": "ipython3",
   "version": "3.7.3"
  },
  "toc": {
   "base_numbering": 1,
   "nav_menu": {},
   "number_sections": true,
   "sideBar": true,
   "skip_h1_title": false,
   "title_cell": "Table of Contents",
   "title_sidebar": "Contents",
   "toc_cell": false,
   "toc_position": {},
   "toc_section_display": true,
   "toc_window_display": false
  },
  "varInspector": {
   "cols": {
    "lenName": 16,
    "lenType": 16,
    "lenVar": 40
   },
   "kernels_config": {
    "python": {
     "delete_cmd_postfix": "",
     "delete_cmd_prefix": "del ",
     "library": "var_list.py",
     "varRefreshCmd": "print(var_dic_list())"
    },
    "r": {
     "delete_cmd_postfix": ") ",
     "delete_cmd_prefix": "rm(",
     "library": "var_list.r",
     "varRefreshCmd": "cat(var_dic_list()) "
    }
   },
   "types_to_exclude": [
    "module",
    "function",
    "builtin_function_or_method",
    "instance",
    "_Feature"
   ],
   "window_display": false
  }
 },
 "nbformat": 4,
 "nbformat_minor": 2
}
