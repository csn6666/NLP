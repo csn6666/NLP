{
 "cells": [
  {
   "cell_type": "markdown",
   "metadata": {},
   "source": [
    "### Part 2: change loss function from $loss = \\frac{1}{n}\\sum{(y_i - \\hat(y_i))^2}$ to $loss = \\frac{1}{n}\\sum{|y_i - \\hat{y_i}|}$, and using your mathmatical knowledge to get the right partial formual. Implemen the gradient descent code."
   ]
  },
  {
   "cell_type": "code",
   "execution_count": 11,
   "metadata": {},
   "outputs": [],
   "source": [
    "from sklearn.datasets import load_boston\n",
    "from matplotlib import pyplot as plt\n",
    "import pandas as pd\n",
    "import numpy as np\n",
    "from tqdm import tqdm\n",
    "import random\n",
    "%matplotlib inline"
   ]
  },
  {
   "cell_type": "code",
   "execution_count": 12,
   "metadata": {},
   "outputs": [],
   "source": [
    "data = load_boston()\n",
    "X, y = data['data'], data['target']"
   ]
  },
  {
   "cell_type": "code",
   "execution_count": 36,
   "metadata": {},
   "outputs": [],
   "source": [
    "def get_prices(k, b, x):\n",
    "    return np.dot(x, k) + b\n",
    "\n",
    "def get_loss(y, y_hat): # to evaluate the performance \n",
    "    return sum(abs(y_i - y_hat_i) for y_i, y_hat_i in zip(list(y), list(y_hat))) / len(list(y))\n",
    "\n",
    "def partial_k(x, y, y_hat):\n",
    "    n = len(y)\n",
    "    gradient = 0\n",
    "    for x, y, y_hat in zip(list(x), list(y), list(y_hat)):\n",
    "        if y > y_hat:\n",
    "            gradient += x/n\n",
    "        elif y < y_hat:\n",
    "            gradient -= x/n\n",
    "    return -gradient\n",
    "\n",
    "def partial_b(x, y, y_hat):\n",
    "    n = len(y)\n",
    "    gradient = 0\n",
    "    for x, y, y_hat in zip(list(x), list(y), list(y_hat)):\n",
    "        if y > y_hat:\n",
    "            gradient += 1/n\n",
    "        elif y < y_hat:\n",
    "            gradient -= 1/n\n",
    "    \n",
    "    return -gradient"
   ]
  },
  {
   "cell_type": "code",
   "execution_count": 49,
   "metadata": {},
   "outputs": [
    {
     "name": "stdout",
     "output_type": "stream",
     "text": [
      "26803.420318210516\n",
      "new lowest loss:26803.420318210516 at 0\n",
      "812.22204394917\n",
      "282.9759698628897\n",
      "new lowest loss:282.9759698628897 at 10000\n",
      "245.32783928133142\n",
      "211.08786384273895\n",
      "new lowest loss:211.08786384273895 at 20000\n",
      "178.53273309418006\n",
      "147.3583591352219\n",
      "118.4090160298157\n",
      "116.81656475877394\n",
      "142.6233388211896\n",
      "141.5771248511659\n",
      "143.80762115204183\n",
      "145.840274714179\n",
      "152.04021415056206\n",
      "153.59352158270497\n",
      "158.03244867031484\n",
      "159.56931654498015\n",
      "155.92981670468504\n",
      "156.62062015390956\n",
      "157.06601047986516\n",
      "112.56221977040954\n"
     ]
    }
   ],
   "source": [
    "\n",
    "\n",
    "k = best_supervised_k = [random.random() * 200 - 100 for i in range(13)]\n",
    "b = best_supervised_b = random.random() * 200 - 100\n",
    "\n",
    "step = 1e-3\n",
    "epoch = 100000\n",
    "lowest_loss = 10000000000000\n",
    "\n",
    "for i in range(epoch):\n",
    "    y_hat = get_prices(k, b, X)\n",
    "    k -= partial_k(X, y, y_hat) * step\n",
    "    b -= partial_b(X, y, y_hat) * step\n",
    "    loss = get_loss(y, y_hat)\n",
    "    if i % 5000 == 0:\n",
    "        print(loss)\n",
    "    if loss < lowest_loss:\n",
    "        lowest_loss = loss\n",
    "        best_directed_k = k\n",
    "        best_directed_b = b\n",
    "        if i % (epoch/10) == 0:\n",
    "            print('new lowest loss:{0} at {1}'.format(lowest_loss, i))\n",
    "print(lowest_loss)"
   ]
  },
  {
   "cell_type": "markdown",
   "metadata": {},
   "source": [
    "### Part 3: Finish the Solution Parse Part of Edit-Distance"
   ]
  },
  {
   "cell_type": "code",
   "execution_count": null,
   "metadata": {},
   "outputs": [],
   "source": []
  }
 ],
 "metadata": {
  "kernelspec": {
   "display_name": "Python 3",
   "language": "python",
   "name": "python3"
  },
  "language_info": {
   "codemirror_mode": {
    "name": "ipython",
    "version": 3
   },
   "file_extension": ".py",
   "mimetype": "text/x-python",
   "name": "python",
   "nbconvert_exporter": "python",
   "pygments_lexer": "ipython3",
   "version": "3.7.3"
  },
  "toc": {
   "base_numbering": 1,
   "nav_menu": {},
   "number_sections": true,
   "sideBar": true,
   "skip_h1_title": false,
   "title_cell": "Table of Contents",
   "title_sidebar": "Contents",
   "toc_cell": false,
   "toc_position": {},
   "toc_section_display": true,
   "toc_window_display": false
  },
  "varInspector": {
   "cols": {
    "lenName": 16,
    "lenType": 16,
    "lenVar": 40
   },
   "kernels_config": {
    "python": {
     "delete_cmd_postfix": "",
     "delete_cmd_prefix": "del ",
     "library": "var_list.py",
     "varRefreshCmd": "print(var_dic_list())"
    },
    "r": {
     "delete_cmd_postfix": ") ",
     "delete_cmd_prefix": "rm(",
     "library": "var_list.r",
     "varRefreshCmd": "cat(var_dic_list()) "
    }
   },
   "types_to_exclude": [
    "module",
    "function",
    "builtin_function_or_method",
    "instance",
    "_Feature"
   ],
   "window_display": false
  }
 },
 "nbformat": 4,
 "nbformat_minor": 2
}
