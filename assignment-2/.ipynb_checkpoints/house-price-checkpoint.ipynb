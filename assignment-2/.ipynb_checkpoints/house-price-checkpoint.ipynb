{
 "cells": [
  {
   "cell_type": "code",
   "execution_count": 1,
   "metadata": {},
   "outputs": [],
   "source": [
    "from sklearn.datasets import load_boston\n",
    "from matplotlib import pyplot as plt\n",
    "import pandas as pd\n",
    "import numpy as np\n",
    "from tqdm import tqdm\n",
    "import random\n",
    "%matplotlib inline"
   ]
  },
  {
   "cell_type": "code",
   "execution_count": 2,
   "metadata": {},
   "outputs": [],
   "source": [
    "data = load_boston()"
   ]
  },
  {
   "cell_type": "code",
   "execution_count": 3,
   "metadata": {},
   "outputs": [],
   "source": [
    "X, y = data['data'], data['target']"
   ]
  },
  {
   "cell_type": "code",
   "execution_count": 4,
   "metadata": {},
   "outputs": [
    {
     "data": {
      "text/plain": [
       "(506, 13)"
      ]
     },
     "execution_count": 4,
     "metadata": {},
     "output_type": "execute_result"
    }
   ],
   "source": [
    "data['data'].shape"
   ]
  },
  {
   "cell_type": "code",
   "execution_count": 5,
   "metadata": {},
   "outputs": [],
   "source": [
    "house_data = data['data']\n",
    "true_prices = data['target']"
   ]
  },
  {
   "cell_type": "code",
   "execution_count": 13,
   "metadata": {},
   "outputs": [],
   "source": [
    "def get_prices(k, b, x):\n",
    "    return np.dot(x, k) + b\n",
    "def get_loss(y, y_hat): # to evaluate the performance \n",
    "    return sum((y_i - y_hat_i)**2 for y_i, y_hat_i in zip(list(y), list(y_hat))) / len(list(y))"
   ]
  },
  {
   "cell_type": "code",
   "execution_count": 7,
   "metadata": {},
   "outputs": [
    {
     "name": "stdout",
     "output_type": "stream",
     "text": [
      "****got new best: loss=2921409168.673875\n",
      "0/10000\n",
      "****got new best: loss=2846844697.7776356\n",
      "****got new best: loss=2214042031.150503\n",
      "****got new best: loss=1380763120.4529064\n",
      "****got new best: loss=1127808895.2537127\n",
      "****got new best: loss=590743341.4519572\n",
      "****got new best: loss=351761324.0896674\n",
      "1000/10000\n",
      "2000/10000\n",
      "3000/10000\n",
      "4000/10000\n",
      "5000/10000\n",
      "****got new best: loss=276415045.8771086\n",
      "6000/10000\n",
      "7000/10000\n",
      "8000/10000\n",
      "****got new best: loss=269402322.9143706\n",
      "9000/10000\n",
      "10000/10000\n"
     ]
    }
   ],
   "source": [
    "# random k and b\n",
    "best_random_k = np.zeros([13,1])\n",
    "best_random_b = 0\n",
    "lowest_loss = 10000000000\n",
    "\n",
    "for i in range(10000):\n",
    "    k = np.random.random([13,1])*200 - 100\n",
    "    b = np.random.random() * 200 - 100\n",
    "    predicts = get_prices(k, b, house_data)\n",
    "    loss = np.sum(np.absolute(predicts - true_prices))\n",
    "    if loss < lowest_loss:\n",
    "        lowest_loss = loss\n",
    "        best_random_k = k\n",
    "        best_random_b = b\n",
    "        #print('got new best: k=\\n{0}b=\\n{1}loss=\\n{2}'.format(k, b, loss))\n",
    "        print('****got new best: loss={0}'.format(loss))\n",
    "    if i % 1000 == 0:\n",
    "        print(str(i)+'/10000\\r')\n",
    "print('10000/10000')"
   ]
  },
  {
   "cell_type": "code",
   "execution_count": 83,
   "metadata": {},
   "outputs": [
    {
     "name": "stdout",
     "output_type": "stream",
     "text": [
      "new lowest loss:4017.6497587982076 at 0\n",
      "new lowest loss:3728.092997644289 at 7\n",
      "new lowest loss:512.7353780933474 at 8\n",
      "512.7353780933474\n"
     ]
    }
   ],
   "source": [
    "#supervised direction\n",
    "def get_random_directions(k_length):\n",
    "    k = [random.choice([1, -1]) for x in range(k_length)]\n",
    "    return np.array(k)\n",
    "                      \n",
    "k = best_directed_k = np.zeros(13)\n",
    "b = best_directed_b = 0\n",
    "\n",
    "step = 0.05\n",
    "epoch = 100000\n",
    "current_k_directions = get_random_directions(13)\n",
    "current_b_direction = random.choice([1, -1])\n",
    "lowest_loss = 10000000000000\n",
    "\n",
    "for i in range(epoch):\n",
    "    k += current_k_directions * step\n",
    "    b += current_b_direction * step\n",
    "    predicts = get_prices(k, b, house_data)\n",
    "    loss = get_loss(true_prices, predicts)\n",
    "    if i % (epoch/10) == 0:\n",
    "        #print(str(step))\n",
    "        #print('current loss is:{0}\\nlowest loss so far is:{1}\\n{2}/{3}'.format(loss, lowest_loss, i, epoch))\n",
    "        step *= 0.99\n",
    "    if loss < lowest_loss:\n",
    "        lowest_loss = loss\n",
    "        best_directed_k = k\n",
    "        best_directed_b = b\n",
    "        print('new lowest loss:{0} at {1}'.format(lowest_loss, i))\n",
    "    else:\n",
    "        current_k_directions = get_random_directions(13)\n",
    "        current_b_direction = random.choice([1, -1])\n",
    "print(lowest_loss)"
   ]
  },
  {
   "cell_type": "code",
   "execution_count": 148,
   "metadata": {
    "scrolled": false
   },
   "outputs": [
    {
     "name": "stdout",
     "output_type": "stream",
     "text": [
      "1622469394.2629418\n",
      "new lowest loss:1622469394.2629418 at 0\n",
      "76248.83307615589\n",
      "54955.589980339064\n",
      "40658.520215632794\n",
      "30615.08356243068\n",
      "23390.89695749404\n",
      "18097.013154910328\n",
      "14158.890666512754\n",
      "11192.564737767389\n",
      "8934.426929086121\n",
      "7199.490710715555\n",
      "5855.581268753105\n",
      "4806.8299237837555\n",
      "3982.8157252512715\n",
      "3331.248021581762\n",
      "2812.932855121713\n",
      "2398.2490007331694\n",
      "2064.6435545198424\n",
      "1794.8290879505914\n",
      "1575.4714541290136\n",
      "1396.22557575587\n",
      "new lowest loss:1396.22557575587 at 100000\n",
      "1249.0210162981361\n",
      "1127.5287113170154\n",
      "1026.7602697718646\n",
      "942.7650479180766\n",
      "872.3998321379086\n",
      "813.1527800989121\n",
      "763.0081397803199\n",
      "720.3417793534567\n",
      "683.8401157102379\n",
      "652.4368999532796\n",
      "625.2636959634466\n",
      "601.6109085310777\n",
      "580.8969769430432\n",
      "562.6439177137344\n",
      "546.457826548916\n",
      "532.0132712138715\n",
      "519.040750525604\n",
      "507.3165799069989\n",
      "496.65470538647634\n",
      "486.9000563974865\n",
      "new lowest loss:486.9000563974865 at 200000\n",
      "477.92313126568985\n",
      "469.6155738742083\n",
      "461.8865501712668\n",
      "454.659772318578\n",
      "447.8710489310838\n",
      "441.4662639684722\n",
      "435.399705881082\n",
      "429.63268371360107\n",
      "424.13237889257397\n",
      "418.8708910323493\n",
      "413.8244438019914\n",
      "408.97272310060356\n",
      "404.2983248008233\n",
      "399.7862933819207\n",
      "395.42373607561706\n",
      "391.19949983921805\n",
      "387.10390067071296\n",
      "383.1284965834435\n",
      "379.26589703891364\n",
      "375.50960285554515\n",
      "new lowest loss:375.50960285554515 at 300000\n",
      "371.8538716170149\n",
      "368.293604435104\n",
      "364.8242506102686\n",
      "361.44172730404745\n",
      "358.14235181149104\n",
      "354.92278441619015\n",
      "351.77998013887594\n",
      "348.7111479644368\n",
      "345.7137163607396\n",
      "342.7853040936516\n",
      "339.9236955023886\n",
      "337.1268195329803\n",
      "334.39273193969285\n",
      "331.7196001581009\n",
      "329.1056904322706\n",
      "326.5493568446392\n",
      "324.04903195267605\n",
      "321.603218783101\n",
      "319.21048397361716\n",
      "316.8694518851667\n",
      "new lowest loss:316.8694518851667 at 400000\n",
      "314.57879953541374\n",
      "312.3372522275656\n",
      "310.14357976835987\n",
      "307.99659318549715\n",
      "305.8951418689285\n",
      "303.8381110720415\n",
      "301.8244197187923\n",
      "299.8530184711901\n",
      "297.92288801856876\n",
      "296.0330375560621\n",
      "294.18250342474937\n",
      "292.3703478901213\n",
      "290.59565803915024\n",
      "288.85754477924957\n",
      "287.15514192496374\n",
      "285.4876053604162\n",
      "283.85411226730224\n",
      "282.25386040981573\n",
      "280.6860674691917\n",
      "279.14997042160945\n",
      "new lowest loss:279.14997042160945 at 500000\n",
      "277.64482495415683\n",
      "276.1699049143757\n",
      "274.7245017895037\n",
      "273.3079242121521\n",
      "271.91949748960644\n",
      "270.55856315434573\n",
      "269.2244785337331\n",
      "267.91661633707577\n",
      "266.6343642585734\n",
      "265.3771245948064\n",
      "264.1443138756263\n",
      "262.9353625074727\n",
      "261.7497144282359\n",
      "260.5868267729349\n",
      "259.4461695495244\n",
      "258.3272253242485\n",
      "257.22948891605256\n",
      "256.15246709954596\n",
      "255.09567831616428\n",
      "254.0586523930943\n",
      "new lowest loss:254.0586523930943 at 600000\n",
      "253.04093026969704\n",
      "252.04206373105842\n",
      "251.0616151484622\n",
      "250.0991572264653\n",
      "249.15427275638694\n",
      "248.22655437598945\n",
      "247.31560433512698\n",
      "246.42103426720266\n",
      "245.5424649662397\n",
      "244.67952616940758\n",
      "243.8318563448476\n",
      "242.99910248464323\n",
      "242.1809199028002\n",
      "241.37697203809657\n",
      "240.58693026167447\n",
      "239.8104736892477\n",
      "239.04728899781296\n",
      "238.2970702467361\n",
      "237.55951870311563\n",
      "236.8343426713108\n",
      "new lowest loss:236.8343426713108 at 700000\n",
      "236.12125732652197\n",
      "235.41998455234878\n",
      "234.73025278219848\n",
      "234.05179684445605\n",
      "233.38435781135098\n",
      "232.72768285139637\n",
      "232.08152508532604\n",
      "231.4456434454624\n",
      "230.81980253840018\n",
      "230.20377251096184\n",
      "229.5973289193164\n",
      "229.00025260119838\n",
      "228.41232955115558\n",
      "227.83335079875675\n",
      "227.26311228966455\n",
      "226.701414769547\n",
      "226.1480636707098\n",
      "225.6028690014366\n",
      "225.06564523792255\n",
      "224.53621121879127\n",
      "new lowest loss:224.53621121879127 at 800000\n",
      "224.0143900420819\n",
      "223.50000896469155\n",
      "222.9928993041797\n",
      "222.49289634291452\n",
      "221.99983923446393\n",
      "221.51357091221792\n",
      "221.0339380001661\n",
      "220.56079072577901\n",
      "220.09398283496495\n",
      "219.6333715090125\n",
      "219.17881728352341\n",
      "218.73018396924383\n",
      "218.2873385747792\n",
      "217.85015123112493\n",
      "217.41849511798873\n",
      "216.99224639185562\n",
      "216.57128411574183\n",
      "216.15549019063482\n",
      "215.7447492885183\n",
      "215.33894878701298\n",
      "new lowest loss:215.33894878701298 at 900000\n",
      "214.93797870553814\n",
      "214.54173164299976\n",
      "214.15010271693995\n",
      "213.76298950413275\n",
      "213.38029198257226\n",
      "213.00191247484386\n",
      "212.62775559283185\n",
      "212.25772818372613\n",
      "211.89173927730843\n",
      "211.52970003449127\n",
      "211.17152369706142\n",
      "210.81712553861672\n",
      "210.46642281667286\n",
      "210.11933472587262\n",
      "209.77578235233435\n",
      "209.4356886290555\n",
      "209.09897829238326\n",
      "208.76557783949988\n",
      "208.43541548693022\n",
      "208.10848621674512\n"
     ]
    }
   ],
   "source": [
    "# supervised learning\n",
    "def partial_k(x, y, y_hat):\n",
    "    n = len(y)\n",
    "    gradient = np.dot((y-y_hat), x)\n",
    "    \n",
    "    return -2 / n * gradient\n",
    "\n",
    "\n",
    "def partial_b(x, y, y_hat):\n",
    "    n = len(y)\n",
    "    gradient = 0\n",
    "    gradient = np.sum(y - y_hat)\n",
    "    \n",
    "    return -2 / n * gradient\n",
    "\n",
    "k = best_supervised_k = [random.random() * 200 - 100 for i in range(13)]\n",
    "b = best_supervised_b = random.random() * 200 - 100\n",
    "\n",
    "step = 1e-6\n",
    "epoch = 1000000\n",
    "lowest_loss = 10000000000000\n",
    "\n",
    "for i in range(epoch):\n",
    "    predicts = get_prices(k, b, house_data)\n",
    "    k -= partial_k(house_data, true_prices, predicts) * step\n",
    "    b -= partial_b(house_data, true_prices, predicts) * step\n",
    "    loss = get_loss(true_prices, predicts)\n",
    "    if i % 5000 == 0:\n",
    "        print(loss)\n",
    "    if loss < lowest_loss:\n",
    "        lowest_loss = loss\n",
    "        best_directed_k = k\n",
    "        best_directed_b = b\n",
    "        if i % (epoch/10) == 0:\n",
    "            print('new lowest loss:{0} at {1}'.format(lowest_loss, i))\n",
    "print(lowest_loss)"
   ]
  },
  {
   "cell_type": "code",
   "execution_count": 162,
   "metadata": {},
   "outputs": [
    {
     "data": {
      "text/plain": [
       "<matplotlib.collections.PathCollection at 0x7ffe28aefc50>"
      ]
     },
     "execution_count": 162,
     "metadata": {},
     "output_type": "execute_result"
    },
    {
     "name": "stderr",
     "output_type": "stream",
     "text": [
      "/Users/sinong/anaconda3/envs/nlp/lib/python3.7/site-packages/matplotlib/backends/backend_agg.py:211: RuntimeWarning: Glyph 8722 missing from current font.\n",
      "  font.set_text(s, 0.0, flags=flags)\n",
      "/Users/sinong/anaconda3/envs/nlp/lib/python3.7/site-packages/matplotlib/backends/backend_agg.py:180: RuntimeWarning: Glyph 8722 missing from current font.\n",
      "  font.set_text(s, 0, flags=flags)\n"
     ]
    },
    {
     "data": {
      "image/png": "[encoded data removed]",
      "text/plain": [
       "<Figure size 432x288 with 1 Axes>"
      ]
     },
     "metadata": {
      "needs_background": "light"
     },
     "output_type": "display_data"
    }
   ],
   "source": [
    "predicts = get_prices(best_supervised_k, best_supervised_b, house_data)\n",
    "plt.scatter(np.linspace(0, 1, len(predicts)), predicts)"
   ]
  },
  {
   "cell_type": "code",
   "execution_count": 166,
   "metadata": {},
   "outputs": [
    {
     "data": {
      "text/plain": [
       "122"
      ]
     },
     "execution_count": 166,
     "metadata": {},
     "output_type": "execute_result"
    }
   ],
   "source": [
    "len([x for x in predicts if x < 0])"
   ]
  },
  {
   "cell_type": "code",
   "execution_count": 168,
   "metadata": {},
   "outputs": [
    {
     "data": {
      "text/plain": [
       "array([6.575, 6.421, 7.185, 6.998, 7.147, 6.43 , 6.012, 6.172, 5.631,\n",
       "       6.004, 6.377, 6.009, 5.889, 5.949, 6.096, 5.834, 5.935, 5.99 ,\n",
       "       5.456, 5.727, 5.57 , 5.965, 6.142, 5.813, 5.924, 5.599, 5.813,\n",
       "       6.047, 6.495, 6.674, 5.713, 6.072, 5.95 , 5.701, 6.096, 5.933,\n",
       "       5.841, 5.85 , 5.966, 6.595, 7.024, 6.77 , 6.169, 6.211, 6.069,\n",
       "       5.682, 5.786, 6.03 , 5.399, 5.602, 5.963, 6.115, 6.511, 5.998,\n",
       "       5.888, 7.249, 6.383, 6.816, 6.145, 5.927, 5.741, 5.966, 6.456,\n",
       "       6.762, 7.104, 6.29 , 5.787, 5.878, 5.594, 5.885, 6.417, 5.961,\n",
       "       6.065, 6.245, 6.273, 6.286, 6.279, 6.14 , 6.232, 5.874, 6.727,\n",
       "       6.619, 6.302, 6.167, 6.389, 6.63 , 6.015, 6.121, 7.007, 7.079,\n",
       "       6.417, 6.405, 6.442, 6.211, 6.249, 6.625, 6.163, 8.069, 7.82 ,\n",
       "       7.416, 6.727, 6.781, 6.405, 6.137, 6.167, 5.851, 5.836, 6.127,\n",
       "       6.474, 6.229, 6.195, 6.715, 5.913, 6.092, 6.254, 5.928, 6.176,\n",
       "       6.021, 5.872, 5.731, 5.87 , 6.004, 5.961, 5.856, 5.879, 5.986,\n",
       "       5.613, 5.693, 6.431, 5.637, 6.458, 6.326, 6.372, 5.822, 5.757,\n",
       "       6.335, 5.942, 6.454, 5.857, 6.151, 6.174, 5.019, 5.403, 5.468,\n",
       "       4.903, 6.13 , 5.628, 4.926, 5.186, 5.597, 6.122, 5.404, 5.012,\n",
       "       5.709, 6.129, 6.152, 5.272, 6.943, 6.066, 6.51 , 6.25 , 7.489,\n",
       "       7.802, 8.375, 5.854, 6.101, 7.929, 5.877, 6.319, 6.402, 5.875,\n",
       "       5.88 , 5.572, 6.416, 5.859, 6.546, 6.02 , 6.315, 6.86 , 6.98 ,\n",
       "       7.765, 6.144, 7.155, 6.563, 5.604, 6.153, 7.831, 6.782, 6.556,\n",
       "       7.185, 6.951, 6.739, 7.178, 6.8  , 6.604, 7.875, 7.287, 7.107,\n",
       "       7.274, 6.975, 7.135, 6.162, 7.61 , 7.853, 8.034, 5.891, 6.326,\n",
       "       5.783, 6.064, 5.344, 5.96 , 5.404, 5.807, 6.375, 5.412, 6.182,\n",
       "       5.888, 6.642, 5.951, 6.373, 6.951, 6.164, 6.879, 6.618, 8.266,\n",
       "       8.725, 8.04 , 7.163, 7.686, 6.552, 5.981, 7.412, 8.337, 8.247,\n",
       "       6.726, 6.086, 6.631, 7.358, 6.481, 6.606, 6.897, 6.095, 6.358,\n",
       "       6.393, 5.593, 5.605, 6.108, 6.226, 6.433, 6.718, 6.487, 6.438,\n",
       "       6.957, 8.259, 6.108, 5.876, 7.454, 8.704, 7.333, 6.842, 7.203,\n",
       "       7.52 , 8.398, 7.327, 7.206, 5.56 , 7.014, 8.297, 7.47 , 5.92 ,\n",
       "       5.856, 6.24 , 6.538, 7.691, 6.758, 6.854, 7.267, 6.826, 6.482,\n",
       "       6.812, 7.82 , 6.968, 7.645, 7.923, 7.088, 6.453, 6.23 , 6.209,\n",
       "       6.315, 6.565, 6.861, 7.148, 6.63 , 6.127, 6.009, 6.678, 6.549,\n",
       "       5.79 , 6.345, 7.041, 6.871, 6.59 , 6.495, 6.982, 7.236, 6.616,\n",
       "       7.42 , 6.849, 6.635, 5.972, 4.973, 6.122, 6.023, 6.266, 6.567,\n",
       "       5.705, 5.914, 5.782, 6.382, 6.113, 6.426, 6.376, 6.041, 5.708,\n",
       "       6.415, 6.431, 6.312, 6.083, 5.868, 6.333, 6.144, 5.706, 6.031,\n",
       "       6.316, 6.31 , 6.037, 5.869, 5.895, 6.059, 5.985, 5.968, 7.241,\n",
       "       6.54 , 6.696, 6.874, 6.014, 5.898, 6.516, 6.635, 6.939, 6.49 ,\n",
       "       6.579, 5.884, 6.728, 5.663, 5.936, 6.212, 6.395, 6.127, 6.112,\n",
       "       6.398, 6.251, 5.362, 5.803, 8.78 , 3.561, 4.963, 3.863, 4.97 ,\n",
       "       6.683, 7.016, 6.216, 5.875, 4.906, 4.138, 7.313, 6.649, 6.794,\n",
       "       6.38 , 6.223, 6.968, 6.545, 5.536, 5.52 , 4.368, 5.277, 4.652,\n",
       "       5.   , 4.88 , 5.39 , 5.713, 6.051, 5.036, 6.193, 5.887, 6.471,\n",
       "       6.405, 5.747, 5.453, 5.852, 5.987, 6.343, 6.404, 5.349, 5.531,\n",
       "       5.683, 4.138, 5.608, 5.617, 6.852, 5.757, 6.657, 4.628, 5.155,\n",
       "       4.519, 6.434, 6.782, 5.304, 5.957, 6.824, 6.411, 6.006, 5.648,\n",
       "       6.103, 5.565, 5.896, 5.837, 6.202, 6.193, 6.38 , 6.348, 6.833,\n",
       "       6.425, 6.436, 6.208, 6.629, 6.461, 6.152, 5.935, 5.627, 5.818,\n",
       "       6.406, 6.219, 6.485, 5.854, 6.459, 6.341, 6.251, 6.185, 6.417,\n",
       "       6.749, 6.655, 6.297, 7.393, 6.728, 6.525, 5.976, 5.936, 6.301,\n",
       "       6.081, 6.701, 6.376, 6.317, 6.513, 6.209, 5.759, 5.952, 6.003,\n",
       "       5.926, 5.713, 6.167, 6.229, 6.437, 6.98 , 5.427, 6.162, 6.484,\n",
       "       5.304, 6.185, 6.229, 6.242, 6.75 , 7.061, 5.762, 5.871, 6.312,\n",
       "       6.114, 5.905, 5.454, 5.414, 5.093, 5.983, 5.983, 5.707, 5.926,\n",
       "       5.67 , 5.39 , 5.794, 6.019, 5.569, 6.027, 6.593, 6.12 , 6.976,\n",
       "       6.794, 6.03 ])"
      ]
     },
     "execution_count": 168,
     "metadata": {},
     "output_type": "execute_result"
    }
   ],
   "source": [
    "house_data[:,5]"
   ]
  },
  {
   "cell_type": "code",
   "execution_count": null,
   "metadata": {},
   "outputs": [],
   "source": []
  }
 ],
 "metadata": {
  "kernelspec": {
   "display_name": "Python 3",
   "language": "python",
   "name": "python3"
  },
  "language_info": {
   "codemirror_mode": {
    "name": "ipython",
    "version": 3
   },
   "file_extension": ".py",
   "mimetype": "text/x-python",
   "name": "python",
   "nbconvert_exporter": "python",
   "pygments_lexer": "ipython3",
   "version": "3.7.3"
  },
  "toc": {
   "base_numbering": 1,
   "nav_menu": {},
   "number_sections": true,
   "sideBar": true,
   "skip_h1_title": false,
   "title_cell": "Table of Contents",
   "title_sidebar": "Contents",
   "toc_cell": false,
   "toc_position": {},
   "toc_section_display": true,
   "toc_window_display": false
  },
  "varInspector": {
   "cols": {
    "lenName": 16,
    "lenType": 16,
    "lenVar": 40
   },
   "kernels_config": {
    "python": {
     "delete_cmd_postfix": "",
     "delete_cmd_prefix": "del ",
     "library": "var_list.py",
     "varRefreshCmd": "print(var_dic_list())"
    },
    "r": {
     "delete_cmd_postfix": ") ",
     "delete_cmd_prefix": "rm(",
     "library": "var_list.r",
     "varRefreshCmd": "cat(var_dic_list()) "
    }
   },
   "types_to_exclude": [
    "module",
    "function",
    "builtin_function_or_method",
    "instance",
    "_Feature"
   ],
   "window_display": false
  }
 },
 "nbformat": 4,
 "nbformat_minor": 2
}
